{
 "cells": [
  {
   "cell_type": "markdown",
   "id": "aa49d3b3",
   "metadata": {
    "lines_to_next_cell": 2
   },
   "source": [
    "**********************************************\n",
    "**Author:** Jaime Alonso Fernández\n",
    "**Date:** 2025-03-20\n",
    "\n",
    "**Universidad Complutense de Madrid**\n",
    "\n",
    "**Grado en Ingeniería del Software (Plan 2019)**\n",
    "\n",
    "**Ingeniería del Conocimiento**\n",
    "**********************************************"
   ]
  },
  {
   "cell_type": "code",
   "execution_count": null,
   "id": "adb096a5",
   "metadata": {
    "lines_to_next_cell": 1
   },
   "outputs": [],
   "source": [
    "# Importamos las librerías necesarias\n",
    "import networkx as nx # Para el árbol\n",
    "import matplotlib.pyplot as plt # Para el plot"
   ]
  },
  {
   "cell_type": "code",
   "execution_count": null,
   "id": "50467876",
   "metadata": {},
   "outputs": [],
   "source": [
    "def read_file(filepath, separator) -> []:\n",
    "    try:\n",
    "        file_values = []\n",
    "        with open(filepath, 'r') as file:\n",
    "            for line in file:\n",
    "                # Borramos el fin de línea en caso de que lo tenga\n",
    "                line = line.strip(\"\\n\")\n",
    "                # Dividimos los textos\n",
    "                split_line = line.split(separator)\n",
    "                # Almacenamos la lista procesada\n",
    "                file_values.append(split_line)\n",
    "\n",
    "        # Si no hay elementos, devolvemos null\n",
    "        if len(file_values) == 0:\n",
    "            return None\n",
    "        # Si solo tenemos una fila, devolvemos solo esa fila\n",
    "        if len(file_values) == 1:\n",
    "            return file_values[0]\n",
    "        # Si no, devolvemos todos los valores\n",
    "        return file_values\n",
    "    except FileNotFoundError:\n",
    "        # En caso de no existir el archivo, devolvemos null\n",
    "        print(\"\\033[91mFile not found: \", filepath, \"\\033[0m\")\n",
    "\n",
    "        return None"
   ]
  },
  {
   "cell_type": "code",
   "execution_count": null,
   "id": "8abc9c5b",
   "metadata": {},
   "outputs": [],
   "source": [
    "def run_id3(attributes:[], examples: []):\n",
    "    pass"
   ]
  },
  {
   "cell_type": "code",
   "execution_count": null,
   "id": "63d12219",
   "metadata": {
    "lines_to_next_cell": 1
   },
   "outputs": [],
   "source": [
    "def build_tree() -> nx.DiGraph:\n",
    "    graph = nx.DiGraph()\n",
    "\n",
    "    # Agregar nodos y aristas (conexiones)\n",
    "    graph.add_edges_from([\n",
    "        (\"Root\", \"Child 1\"),\n",
    "        (\"Root\", \"Child 2\"),\n",
    "        (\"Child 1\", \"Grandchild 1\"),\n",
    "        (\"Child 1\", \"Grandchild 2\"),\n",
    "        (\"Child 2\", \"Grandchild 3\")\n",
    "    ])\n",
    "\n",
    "    return graph"
   ]
  },
  {
   "cell_type": "code",
   "execution_count": null,
   "id": "e8ffb2b0",
   "metadata": {},
   "outputs": [],
   "source": [
    "def show_tree(graph: nx.DiGraph):\n",
    "    plt.figure(figsize=(8, 5))\n",
    "    pos = nx.spring_layout(graph)  # Distribución automática\n",
    "    nx.draw(graph, pos, with_labels=True, node_color=\"skyblue\", node_size=3000, font_size=10, edge_color=\"gray\")\n",
    "    plt.show()"
   ]
  },
  {
   "cell_type": "code",
   "execution_count": null,
   "id": "1d5beddc",
   "metadata": {},
   "outputs": [],
   "source": [
    "if __name__ == '__main__':\n",
    "    print(\"I am main\")\n",
    "    attributes_names = read_file(\"AtributosJuego.txt\", \",\")\n",
    "    example_names = read_file(\"Juego.txt\", \",\")\n",
    "    run_id3(attributes_names, example_names)"
   ]
  }
 ],
 "metadata": {
  "jupytext": {
   "cell_metadata_filter": "-all",
   "main_language": "python",
   "notebook_metadata_filter": "-all"
  }
 },
 "nbformat": 4,
 "nbformat_minor": 5
}
